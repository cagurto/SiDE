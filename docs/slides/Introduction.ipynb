{
 "cells": [
  {
   "cell_type": "markdown",
   "metadata": {
    "slideshow": {
     "slide_type": "slide"
    }
   },
   "source": [
    "# A tool for fitting interferometric data\n",
    "\n",
    "https://gitlab.mpcdf.mpg.de/szucs/SimpleDiskEnvFit"
   ]
  },
  {
   "cell_type": "markdown",
   "metadata": {
    "slideshow": {
     "slide_type": "slide"
    }
   },
   "source": [
    "## Goals\n",
    "\n",
    "- Assumption: a simple, physically motivated model describes the observed emission\n",
    "\n",
    "- Optimise the model parameters to best recover the observations\n",
    "\n",
    "- Determine the posterior distribution of model parameters\n"
   ]
  },
  {
   "cell_type": "markdown",
   "metadata": {
    "slideshow": {
     "slide_type": "subslide"
    }
   },
   "source": [
    "### Example: \n",
    "\n",
    "Fitting complex visibility data with parametric model.\n",
    "\n",
    "<img src=\"galario_example_1.png\" width=\"400\" class=\"center\">\n",
    "\n",
    "\n",
    "Note that this example uses emcee and galario only."
   ]
  },
  {
   "cell_type": "markdown",
   "metadata": {
    "slideshow": {
     "slide_type": "slide"
    }
   },
   "source": [
    "## Features and options:\n",
    "\n",
    "\n",
    "- Compute and visualise model parameter probability distribution\n",
    "- Envelope models: Ulrich+ (1976), Tafalla+ (2004) \n",
    "- Disk model: parametric disk with hydrostatic-like vertical distribution\n",
    "- Compute dust opacity using Mie theory on the fly\n",
    "- Compute dust continuum emission maps and complex visibilities\n",
    "- Compute $\\chi^2$ when observed complex visibilities are provided\n",
    "- Parallelisation using MPI (on cluster) or Python threads (locally)\n"
   ]
  },
  {
   "cell_type": "markdown",
   "metadata": {
    "slideshow": {
     "slide_type": "slide"
    }
   },
   "source": [
    "## Components\n",
    "\n",
    "### RADMC-3D and radmc3dPy\n",
    "\n",
    "Radiative transport tool for computing dust temperature and dust continuum emission (images). \n",
    "\n",
    "### Galario \n",
    "\n",
    "Deprojects observational data, samples model image at observation (u,v) positions and computes the χ$^2$ of model.\n",
    "\n",
    "### emcee \n",
    "\n",
    "Affine invariant Markov-chain Monte Carlo sampler library: decides on next set of models based on the likelihood (χ$^2$) of the current set of models."
   ]
  },
  {
   "cell_type": "markdown",
   "metadata": {
    "slideshow": {
     "slide_type": "slide"
    }
   },
   "source": [
    "## Workflow\n",
    "\n",
    "<img src=\"workflow.png\" width=\"800\" class=\"center\">"
   ]
  },
  {
   "cell_type": "markdown",
   "metadata": {
    "slideshow": {
     "slide_type": "slide"
    }
   },
   "source": [
    "### Model parameter file\n",
    "\n",
    "Contains all fitted and not fitted model parameters. The not fitted parameters have the same value in all models.\n",
    "\n",
    "Example is provided in `examples/elias29/elias29_params.inp`\n",
    "\n",
    "```python\n",
    "# Read parameter file \n",
    "par = SimpleDiskEnvFit.getParams(paramfile='elias29_params.inp')\n",
    "\n",
    "# List parameter dictionary\n",
    "par.ppar\n",
    "\n",
    "# Set parameter value in python\n",
    "par.setPar([\"mdisk\",\"0.01*ms\"])\n",
    "```\n"
   ]
  },
  {
   "cell_type": "code",
   "execution_count": 1,
   "metadata": {
    "scrolled": false,
    "slideshow": {
     "slide_type": "subslide"
    }
   },
   "outputs": [
    {
     "name": "stdout",
     "output_type": "stream",
     "text": [
      "#\r\n",
      "# Elias 29 parameter setup\r\n",
      "#\r\n",
      "# -------------------------------------------------------------------------------------------------------------------------\r\n",
      "# Block: Radiation sources\r\n",
      "# -------------------------------------------------------------------------------------------------------------------------\r\n",
      "mstar                     = [3.0*ms]         # Mass of the star(s)\r\n",
      "pstar                     = [0.0, 0.0, 0.0]  # Position of the star(s) (cartesian coordinates)\r\n",
      "rstar                     = [5.9*rs]         # Radius of the star(s)\r\n",
      "tstar                     = [4786.0]         # Effective temperature of the star(s) [K]\r\n",
      "# -------------------------------------------------------------------------------------------------------------------------\r\n",
      "# Block: Grid parameters\r\n",
      "# -------------------------------------------------------------------------------------------------------------------------\r\n",
      "crd_sys                   = 'sph'            # Coordinate system used (car/cyl)\r\n",
      "xbound                    = [1.0*au,20*au,50000.0*au]  # Boundaries for the x grid\r\n",
      "nx                        = [50,50]          # Number of grid points in the first dimension\r\n",
      "ybound                    = [0.,pi/2.]       # Boundaries for the y grid\r\n",
      "ny                        = 60               # Number of grid points in the second dimension\r\n",
      "zbound                    = [0., 2.0*pi]     # Boundaries for the z grid\r\n",
      "nz                        = 0                # Number of grid points in the third dimension\r\n",
      "nw                        = [50, 150, 100]   # Number of points in the wavelength grid\r\n",
      "wbound                    = [0.1, 7.0, 25.0, 1e4]  # Boundaries for the wavelength grid\r\n",
      "# -------------------------------------------------------------------------------------------------------------------------\r\n",
      "# Block: Dust opacity\r\n",
      "# -------------------------------------------------------------------------------------------------------------------------\r\n",
      "lnk_fname                 = 'porous_natta2004_rhod_1.36.lnk' # Optical constant (n,k) input file name\r\n",
      "gdens                     = 1.36                             # Grain material bulk density\r\n",
      "ngpop                     = 2                                # Number of grain populations\r\n",
      "gsmin                     = [0.1 * 1.0e-4, 0.1 * 1.0e-4]     # Minimum grain size [disk, envelope]\r\n",
      "gsmax                     = [1. * 1.0e-4, 0.1 * 1.0e-4]      # Maximum grain size [disk, envelope]\r\n",
      "gsdist_powex              = -3.5                             # Power law index of grain size distribution\r\n",
      "ngs                       = 30                               # Number of grain size bins between gsmin and gsmax\r\n",
      "# -------------------------------------------------------------------------------------------------------------------------\r\n",
      "# Block: Code parameters\r\n",
      "# -------------------------------------------------------------------------------------------------------------------------\r\n",
      "istar_sphere              = 1     # 1 - take into account the finite size of the star, 0 - take the star to be point-like\r\n",
      "itempdecoup               = 1     # Enable for different dust components to have different temperatures\r\n",
      "lines_mode                = -1    # Line raytracing mode\r\n",
      "nphot                     = 1e5   # Nr of photons for the thermal Monte Carlo\r\n",
      "nphot_scat                = 1e5   # Nr of photons for the scattering Monte Carlo (for images)\r\n",
      "nphot_spec                = 1e5   # Nr of photons for the scattering Monte Carlo (for spectra)\r\n",
      "rto_style                 = 3     # Format of output files (1-ascii, 2-unformatted f77, 3-binary\r\n",
      "scattering_mode_max       = 0     # 0 - no scattering, 1 - isotropic scattering, 2 - anisotropic scattering\r\n",
      "tgas_eq_tdust             = 1     # Take the dust temperature to identical to the gas temperature\r\n",
      "modified_random_walk      = 1     # Use the modified random walk method to improve speed?\r\n",
      "# -------------------------------------------------------------------------------------------------------------------------\r\n",
      "# Block: Model carolina\r\n",
      "# -------------------------------------------------------------------------------------------------------------------------\r\n",
      "bgdens                    = 0.0               # Background density (g/cm^3)\r\n",
      "dusttogas                 = 0.01              # Dust-to-gas mass ratio\r\n",
      "hrdisk                    = 0.1               # Ratio of the pressure scale height over radius at hrpivot\r\n",
      "hrpivot                   = 15.0*au           # Reference radius at which Hp/R is taken\r\n",
      "mdisk                     = 1.0e-18*ms        # Mass of the disk !!! should be 0.1*ms\r\n",
      "plh                       = 0.14              # Flaring index\r\n",
      "modeEnv                   = 'Ulrich1976'      #\r\n",
      "#sig0                      = 931.80889522      # Surface density at rsig (if rsig is not set then rsig = rdisk)\r\n",
      "#rsig                      = 1*au              # Radius at which the surface density normalisation (sig0) is given\r\n",
      "plsig1                    = -1.0              # Power exponent of the surface density distribution as a function of radius\r\n",
      "plsig2                    = -30.0             # Power law exponent at r > rdisk (abrubt cutoff at rdisk is not realistic)\r\n",
      "rdisk                     = 15*au            # Outer radius of the disk\r\n",
      "rin                       = 1.0*au           # Inner radius of the disk\r\n",
      "#srim_plsig               = 2.0               # Power exponent of the density reduction inside of srim_rout*rin\r\n",
      "#srim_rout                = 2.0               # Outer boundary of the smoothing in the inner rim in terms of rin\r\n",
      "prhoEnv                   = -1.5             # Power exponent of the radial density distribution\r\n",
      "rTrunEnv                  = 15*au            # Truncation radius\r\n",
      "rho0Env                   = 1.0e-21          # New central density gr/cm3 dust density volume\r\n",
      "r0Env                     = 300.0*au         # Within this radius the density profile is flat\r\n",
      "thetac_deg                = 30               # Opening angle of the cavity\r\n",
      "# -----------------------------------------------------------------------------\r\n",
      "# Block: Slab parameters\r\n",
      "# -----------------------------------------------------------------------------\r\n",
      "# h0_slab                   = 10.0*au           # Slab inner height [cm]\r\n",
      "# h1_slab                   = 100.0*au          # Slab outer height [cm]\r\n",
      "# r0_slab                   = 30.0*au           # Slab inner radius [cm]\r\n",
      "# r1_slab                   = 1000.0*au         # Slab outer radius [cm]\r\n",
      "# #sig0_slab                 = 1.0e-4            # Sigma0 [gram/cm**2]\r\n",
      "# m_slab                    = 0.01*ms           # Slab mass [gram]\r\n"
     ]
    }
   ],
   "source": [
    "cat ../../examples/elias29/elias29_params.inp"
   ]
  },
  {
   "cell_type": "markdown",
   "metadata": {
    "slideshow": {
     "slide_type": "slide"
    }
   },
   "source": [
    "### Fitting script\n",
    "\n",
    "Example is provided in `examples/fit_elias29.py`\n",
    "\n",
    "Make sure that:\n",
    "\n",
    "- `visdata` dictionary is provided with keywords: u \\[m\\], v \\[m\\], Re \\[Jy\\], Im \\[Jy\\], w \\[1/sigma$^2$\\]\n",
    "- `impar` dictionary is provided (`npix`, `wav`, `sizeau`, `incl` keywords)\n",
    "- fitted parameter names listed in `parname`\n",
    "- aprior parameter range is set\n",
    "- initial parameter for each walker is provided\n",
    "- `nstep`, `nwalker` and `use_mpi` parameters are set in `__main__`\n"
   ]
  },
  {
   "cell_type": "markdown",
   "metadata": {
    "slideshow": {
     "slide_type": "subslide"
    }
   },
   "source": [
    "#### Example:\n",
    "\n",
    "```python\n",
    "# Read observational constraints\n",
    "u1, v1, Re1, Im1, w1 = np.require(np.loadtxt('Elias29uvt_270.txt', unpack=True), requirements='C')\n",
    "u2, v2, Re2, Im2, w2 = np.require(np.loadtxt('Elias29uvt_94.txt', unpack=True), requirements='C')\n",
    "\n",
    "# Bundle visibility data\n",
    "visdata = [{'u':u1, 'v':v1, 'Re':Re1, 'Im':Im1, 'w':w1, 'wav':1100.}, \n",
    "           {'u':u2, 'v':v2, 'Re':Re2, 'Im':Im2, 'w':w2, 'wav':3000.}]\n",
    "\n",
    "# Set image parameters\n",
    "impar = [{'npix':512,'wav':[1100.,3000.],'sizeau':11000,'incl':67.}]\n",
    "\n",
    "# Projection parameters already known\n",
    "parname = ['mdisk','rho0Env','gsmax_disk','gsmax_env']\n",
    "p_ranges = [[-10., -2.],    # log disk mass [solar mass]\n",
    "            [-23., -19.],   # log envelope density [g/cm**3]\n",
    "            [-6., 0.],      # log disk grain size [cm]\n",
    "            [-6., 0.]]      # log envelope grain size [cm]\n",
    "\n",
    "# Initial guess for the parameters\n",
    "p0 = [-5, -20, -4., -4.]\n",
    "pos = [p0 + 1.0e-2*np.random.randn(ndim) for i in range(nwalkers)]\n",
    "```"
   ]
  },
  {
   "cell_type": "markdown",
   "metadata": {
    "slideshow": {
     "slide_type": "slide"
    }
   },
   "source": [
    "### Batch script \n",
    "\n",
    "This is used for requesting resources and queuing the pyhton script on the cluster. "
   ]
  },
  {
   "cell_type": "code",
   "execution_count": 2,
   "metadata": {
    "slideshow": {
     "slide_type": "subslide"
    }
   },
   "outputs": [
    {
     "name": "stdout",
     "output_type": "stream",
     "text": [
      "#!/bin/bash -l\r\n",
      "\r\n",
      "#\r\n",
      "## SimpleDiskEnvFit example to submit fitting job on SLURM\r\n",
      "##\r\n",
      "## Run fitting on 80 cores of 2 nodes.\r\n",
      "##\r\n",
      "## Tested on ccas cluster at MPCDF\r\n",
      "\r\n",
      "#SBATCH --job-name=faust-elias29\r\n",
      "#SBATCH --time=24:00:00\r\n",
      "#SBATCH --partition=ccas256\r\n",
      "#SBATCH --ntasks-per-node=40\r\n",
      "#SBATCH --nodes=2\r\n",
      "#SBATCH --mem=5gb\r\n",
      "\r\n",
      "date\r\n",
      "\r\n",
      "## Load required software\r\n",
      "module load intel\r\n",
      "module load mkl\r\n",
      "module load fftw\r\n",
      "module load impi\r\n",
      "module load anaconda\r\n",
      "\r\n",
      "## Make sure that site-packages are available\r\n",
      "export PYTHONPATH=$PYTHONPATH:~/.local/lib/python2.7/site-packages\r\n",
      "## Make sure that radmc3d binary is avaialble\r\n",
      "export PATH=$PATH:~/bin\r\n",
      "\r\n",
      "# Change to model directory, this is used as resource_dir in SimpleDiskEnvFit\r\n",
      "cd ~/elias29\r\n",
      "pwd\r\n",
      "\r\n",
      "echo \"Starting thread:\" $SLURM_ARRAY_TASK_ID\r\n",
      "\r\n",
      "srun -n 80 python fit_elias29.py\r\n"
     ]
    }
   ],
   "source": [
    "cat ../../examples/elias29_slurm.sh"
   ]
  },
  {
   "cell_type": "markdown",
   "metadata": {
    "slideshow": {
     "slide_type": "slide"
    }
   },
   "source": [
    "## Reading and plotting data\n",
    "\n",
    "The following commands give examples for reading ASCII and binary format chain files to `emcee_chain` type objects. \n",
    "\n",
    "The minimum data stored in a `emcee_chain` object are the following: the chain (parameter values explored by the walkers, with dimension [nwalkers, nsteps, ndim]), logarithm of posterior probability (dimension [nwalkers, nsteps]), number of walkers (nwalkers), steps  (nsteps) and fitted parameters (ndim) and the name of the fitted parameters (dimension [ndim]).\n",
    "\n",
    "```python\n",
    "from SimpleDiskEnvFit import tools\n",
    "\n",
    "# Read ASCII data\n",
    "results = tools.read_chain_ascii('chain.dat')\n",
    "\n",
    "# Read binary (pickle) data\n",
    "results = tools.read_chain_pickle('chain.p')\n",
    "```\n",
    "\n",
    "See also [wiki](https://gitlab.mpcdf.mpg.de/szucs/SimpleDiskEnvFit/wikis/Working-with-emcee-chains)."
   ]
  },
  {
   "cell_type": "markdown",
   "metadata": {
    "slideshow": {
     "slide_type": "subslide"
    }
   },
   "source": [
    "#### Diagnostic plots\n",
    "\n",
    "The `emcee_chain` class provides methods for plotting the distribution of explored parameters (using corner plots), the progression of parameter combinations and the posterior probability value in the chain.\n",
    "\n",
    "```python\n",
    "# Show posterior parameter distribution\n",
    "results.plot_corner(show=True, save=False)\n",
    "\n",
    "# Show walker progression\n",
    "results.plot_chain(show=True, save=False)\n",
    "\n",
    "# Show posterior progression\n",
    "results.plot_lnprob(show=True, save=False)\n",
    "```\n",
    "\n",
    "See also [wiki](https://gitlab.mpcdf.mpg.de/szucs/SimpleDiskEnvFit/wikis/Working-with-emcee-chains)."
   ]
  },
  {
   "cell_type": "markdown",
   "metadata": {
    "slideshow": {
     "slide_type": "subslide"
    }
   },
   "source": [
    "#### Elias 29 \n",
    "\n",
    "- Fitting pre-ALMA data at 1.2 and 3 mm wavelenght.\n",
    "\n",
    "- Envelope density constrained\n",
    "\n",
    "- Disk mass degenerate with grain size\n",
    "\n",
    "<img src=\"corner_elias29.png\" width=\"400\" class=\"center\">"
   ]
  },
  {
   "cell_type": "markdown",
   "metadata": {
    "slideshow": {
     "slide_type": "subslide"
    }
   },
   "source": [
    "#### B11 \n",
    "\n",
    "Embedded binary system, ALMA data.\n",
    "\n",
    "<img src=\"corner_b11.png\" width=\"500\" class=\"center\">"
   ]
  },
  {
   "cell_type": "markdown",
   "metadata": {
    "slideshow": {
     "slide_type": "subslide"
    }
   },
   "source": [
    "#### Chain example\n",
    "\n",
    "<img src=\"lnprob_chain.png\" width=\"500\" class=\"center\">"
   ]
  },
  {
   "cell_type": "markdown",
   "metadata": {
    "slideshow": {
     "slide_type": "slide"
    }
   },
   "source": [
    "## What to expect and MCMC advices\n",
    "\n",
    "- Do not expect such well sampled posterior distributions as with analytic model\n",
    "- Do not fit too many parameters at once\n",
    "- Use as many runners as it is practical\n",
    "- Check acceptence rates (should be around 0.5)\n",
    "- Check posterior probability progression of chain\n",
    "- Do not necessary trust the corner plot: it show frequence rather than likelyhood\n"
   ]
  },
  {
   "cell_type": "markdown",
   "metadata": {
    "slideshow": {
     "slide_type": "slide"
    }
   },
   "source": [
    "## Caviats\n",
    "\n",
    "- Long per model runtime with ALMA data ($\\ge$3 min per model)\n",
    "- Difficult sample posterior distribution as well as with analytic model\n",
    "- Inconvenient visual inspection of model / input visibilities\n",
    "- Still in developement (expect bugs)\n",
    "\n",
    "## Fine-tuning\n",
    "\n",
    "- Adding and changing model components: edit `SimpleDiskEnvFit/models.py`\n",
    "- Adding new dust optical constants: either to model folder or to `SimpleDiskEnvFit/lnk_files`"
   ]
  },
  {
   "cell_type": "markdown",
   "metadata": {
    "slideshow": {
     "slide_type": "subslide"
    }
   },
   "source": [
    "## Requirements:\n",
    "\n",
    "- python (2.7 or 3.5+)\n",
    "- matplotlib\n",
    "- numpy\n",
    "- [radmc3dPy](https://www.ast.cam.ac.uk/~juhasz/radmc3dPyDoc)\n",
    "- [galario](https://github.com/mtazzari/galario) \n",
    "- [uvplot](https://github.com/mtazzari/uvplot)\n",
    "- [emcee](http://dfm.io/emcee) (used for MCMC fitting)\n",
    "- [corner](https://corner.readthedocs.io)\n",
    "- mpi4py\n",
    "- [RADMC3D](http://www.ita.uni-heidelberg.de/~dullemond/software/radmc-3d)\n",
    "\n",
    "See [readme](https://gitlab.mpcdf.mpg.de/szucs/SimpleDiskEnvFit/blob/master/README.md#requirements) file."
   ]
  },
  {
   "cell_type": "markdown",
   "metadata": {
    "slideshow": {
     "slide_type": "subslide"
    }
   },
   "source": [
    "## Installation:\n",
    "\n",
    "Download the repository in your browser or using the git clone utility.\n",
    "\n",
    "Use Python's distutil utility and the provided setup.py script. \n",
    "\n",
    "```bash\n",
    "$ python setup.py install --user\n",
    "```\n",
    "\n",
    "On linux this \n",
    "installes the module to ~/.local/lib/python{2.7/3.6}/site-packages directory, \n",
    "which is usually included in the python search path.\n",
    "\n",
    "Alternatively, you may directly add the repository location to your PYTHONPATH:\n",
    "\n",
    "```bash\n",
    "$ export PYTHONPATH=$PYTHONPATH:/path/to/your/SimpleDiskEnvFit/directory\n",
    "```\n",
    "You can make this addition permanent by saving the export command to the \n",
    "~/.bashrc or ~/.profile files.\n",
    "\n",
    "After completing the installation step, the module should be available in python:\n",
    "\n",
    "```python\n",
    "import SimpleDiskEnvFit\n",
    "```\n",
    "\n",
    "See [readme](https://gitlab.mpcdf.mpg.de/szucs/SimpleDiskEnvFit/blob/master/README.md#installation) file.\n"
   ]
  }
 ],
 "metadata": {
  "celltoolbar": "Slideshow",
  "kernelspec": {
   "display_name": "Python 3",
   "language": "python",
   "name": "python3"
  },
  "language_info": {
   "codemirror_mode": {
    "name": "ipython",
    "version": 3
   },
   "file_extension": ".py",
   "mimetype": "text/x-python",
   "name": "python",
   "nbconvert_exporter": "python",
   "pygments_lexer": "ipython3",
   "version": "3.7.4"
  }
 },
 "nbformat": 4,
 "nbformat_minor": 2
}
